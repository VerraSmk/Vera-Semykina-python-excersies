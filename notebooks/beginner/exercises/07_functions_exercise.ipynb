{
 "cells": [
  {
   "cell_type": "markdown",
   "metadata": {},
   "source": [
    "# 1. Fill the missing pieces of the `count_even_numbers` function\n",
    "Fill `____` pieces of the `count_even_numbers` implemention in order to pass the assertions. You can assume that `numbers` argument is a list of integers."
   ]
  },
  {
   "cell_type": "code",
   "execution_count": 1,
   "metadata": {
    "ExecuteTime": {
     "end_time": "2024-04-01T20:39:19.133271Z",
     "start_time": "2024-04-01T20:39:19.124790Z"
    }
   },
   "outputs": [],
   "source": [
    "def count_even_numbers(numbers):\n",
    "    count = 0\n",
    "    for num in numbers:\n",
    "        if num % 2 == 0:\n",
    "            count += 1\n",
    "    return count"
   ]
  },
  {
   "cell_type": "code",
   "execution_count": 2,
   "metadata": {
    "ExecuteTime": {
     "end_time": "2024-04-01T20:39:23.676852Z",
     "start_time": "2024-04-01T20:39:23.665244Z"
    },
    "editable": false
   },
   "outputs": [],
   "source": [
    "assert count_even_numbers([1, 2, 3, 4, 5, 6]) == 3\n",
    "assert count_even_numbers([1, 3, 5, 7]) == 0\n",
    "assert count_even_numbers([-2, 2, -10, 8]) == 4"
   ]
  },
  {
   "cell_type": "markdown",
   "metadata": {},
   "source": [
    "# 2. Searching for wanted people\n",
    "Implement `find_wanted_people` function which takes a list of names (strings) as argument. The function should return a list of names which are present both in `WANTED_PEOPLE` and in the name list given as argument to the function."
   ]
  },
  {
   "cell_type": "code",
   "execution_count": 6,
   "metadata": {
    "ExecuteTime": {
     "end_time": "2024-04-01T20:50:11.728418Z",
     "start_time": "2024-04-01T20:50:11.710856Z"
    },
    "editable": false
   },
   "outputs": [],
   "source": [
    "WANTED_PEOPLE = [\"John Doe\", \"Clint Eastwood\", \"Chuck Norris\"]"
   ]
  },
  {
   "cell_type": "code",
   "execution_count": 7,
   "metadata": {
    "ExecuteTime": {
     "end_time": "2024-04-01T20:50:14.617631Z",
     "start_time": "2024-04-01T20:50:14.607463Z"
    }
   },
   "outputs": [],
   "source": [
    "# Your implementation here\n",
    "def find_wanted_people (names, WANTED_PEOPLE = [\"John Doe\", \"Clint Eastwood\", \"Chuck Norris\"]):\n",
    "    wanted_check=[]\n",
    "    for name in names:\n",
    "        for WANTED in WANTED_PEOPLE:\n",
    "            if name == WANTED:\n",
    "                wanted_check.append(name)\n",
    "    return wanted_check"
   ]
  },
  {
   "cell_type": "code",
   "execution_count": 8,
   "metadata": {
    "ExecuteTime": {
     "end_time": "2024-04-01T20:50:17.770033Z",
     "start_time": "2024-04-01T20:50:17.759266Z"
    },
    "editable": false
   },
   "outputs": [],
   "source": [
    "people_to_check1 = [\"Donald Duck\", \"Clint Eastwood\", \"John Doe\", \"Barack Obama\"]\n",
    "wanted1 = find_wanted_people(people_to_check1)\n",
    "assert len(wanted1) == 2\n",
    "assert \"John Doe\" in wanted1\n",
    "assert \"Clint Eastwood\" in wanted1\n",
    "\n",
    "people_to_check2 = [\"Donald Duck\", \"Mickey Mouse\", \"Zorro\", \"Superman\", \"Robin Hood\"]\n",
    "wanted2 = find_wanted_people(people_to_check2)\n",
    "assert wanted2 == []"
   ]
  },
  {
   "cell_type": "markdown",
   "metadata": {},
   "source": [
    "# 3. Counting average length of words in a sentence\n",
    "Create a function `average_length_of_words` which takes a string as an argument and returns the average length of the words in the string. You can assume that there is a single space between each word and that the input does not have punctuation. The result should be rounded to one decimal place (hint: see [`round`](https://docs.python.org/3/library/functions.html#round))."
   ]
  },
  {
   "cell_type": "code",
   "execution_count": 15,
   "metadata": {
    "ExecuteTime": {
     "end_time": "2024-04-01T21:00:53.599669Z",
     "start_time": "2024-04-01T21:00:53.590030Z"
    }
   },
   "outputs": [],
   "source": [
    "# Your implementation here\n",
    "def average_length_of_words (sentence):\n",
    "    if len(sentence) == 0:\n",
    "        return 0\n",
    "    words = sentence.split()\n",
    "    sum_wold_len = 0\n",
    "    for word in words:\n",
    "        sum_wold_len += len(word)\n",
    "    return round ((sum_wold_len / len(words)),1)      \n",
    "        "
   ]
  },
  {
   "cell_type": "code",
   "execution_count": 16,
   "metadata": {
    "ExecuteTime": {
     "end_time": "2024-04-01T21:00:55.348407Z",
     "start_time": "2024-04-01T21:00:55.340374Z"
    },
    "editable": false
   },
   "outputs": [],
   "source": [
    "assert average_length_of_words(\"only four lett erwo rdss\") == 4\n",
    "assert average_length_of_words(\"one two three\") == 3.7\n",
    "assert average_length_of_words(\"one two three four\") == 3.8\n",
    "assert average_length_of_words(\"\") == 0"
   ]
  },
  {
   "cell_type": "code",
   "metadata": {
    "collapsed": false
   },
   "outputs": [],
   "source": []
  }
 ],
 "metadata": {
  "kernelspec": {
   "display_name": "Python 3 (ipykernel)",
   "language": "python",
   "name": "python3"
  },
  "language_info": {
   "codemirror_mode": {
    "name": "ipython",
    "version": 3
   },
   "file_extension": ".py",
   "mimetype": "text/x-python",
   "name": "python",
   "nbconvert_exporter": "python",
   "pygments_lexer": "ipython3",
   "version": "3.11.0"
  }
 },
 "nbformat": 4,
 "nbformat_minor": 2
}
