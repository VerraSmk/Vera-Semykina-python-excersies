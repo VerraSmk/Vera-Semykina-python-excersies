{
 "cells": [
  {
   "cell_type": "code",
   "execution_count": 2,
   "metadata": {
    "ExecuteTime": {
     "end_time": "2024-04-02T07:57:35.125337Z",
     "start_time": "2024-04-02T07:57:35.115784Z"
    },
    "editable": false
   },
   "outputs": [],
   "source": [
    "# EXECUTE THIS ONE FIRST!\n",
    "\n",
    "from pathlib import Path\n",
    "\n",
    "# Constants for the exercises:\n",
    "WORKING_DIR = Path.cwd()\n",
    "DATA_DIR = WORKING_DIR.parent / \"data\""
   ]
  },
  {
   "cell_type": "markdown",
   "metadata": {},
   "source": [
    "# 1. Sum numbers listed in a file\n",
    "Fill ____ pieces of the code below. `sum_numbers_in_file` function takes a input file path as argument, reads the numbers listed in the input file and returns the sum of those numbers. You can assume that each line contains exactly one numeric value."
   ]
  },
  {
   "cell_type": "code",
   "execution_count": 43,
   "metadata": {
    "ExecuteTime": {
     "end_time": "2024-04-02T00:17:34.548680Z",
     "start_time": "2024-04-02T00:17:34.528552Z"
    }
   },
   "outputs": [],
   "source": [
    "def sum_numbers_in_file(input_file):\n",
    "    total = 0.0\n",
    "    with open(input_file) as simple_file:\n",
    "        for line in simple_file:\n",
    "            line = line.strip()  # Remove potential white space\n",
    "            total += float(line)\n",
    "    return total"
   ]
  },
  {
   "cell_type": "code",
   "execution_count": 44,
   "metadata": {
    "ExecuteTime": {
     "end_time": "2024-04-02T00:17:35.466154Z",
     "start_time": "2024-04-02T00:17:35.449395Z"
    },
    "editable": false
   },
   "outputs": [],
   "source": [
    "in_file = DATA_DIR / \"numbers.txt\"\n",
    "assert sum_numbers_in_file(in_file) == 189.5"
   ]
  },
  {
   "cell_type": "markdown",
   "metadata": {},
   "source": [
    "# 2. Reading first word from each line of a file\n",
    "Implement `find_first_words` function which takes an input file path as argument. The function should find the first word of each line in the file and return these words as a list. If a line is empty, the returned list should contain an empty string for that line."
   ]
  },
  {
   "cell_type": "code",
   "execution_count": 30,
   "metadata": {
    "ExecuteTime": {
     "end_time": "2024-04-02T08:13:24.869729Z",
     "start_time": "2024-04-02T08:13:24.848087Z"
    }
   },
   "outputs": [],
   "source": [
    "# Your implementation here\n",
    "def find_first_words(input_file):\n",
    "    list=[]\n",
    "    with open(input_file) as simple_file:\n",
    "        #if line.split(None, 1)= !\"\":\n",
    "        #list=[line.split(None, 1)[0] for line in simple_file]\n",
    "        for line in simple_file:\n",
    "            if line != '\\n':list.append(line.split(None, 1)[0])\n",
    "            else: list.append(\"\")\n",
    "    return list"
   ]
  },
  {
   "cell_type": "code",
   "execution_count": 35,
   "metadata": {
    "ExecuteTime": {
     "end_time": "2024-04-02T08:13:59.585533Z",
     "start_time": "2024-04-02T08:13:59.572683Z"
    },
    "editable": false
   },
   "outputs": [
    {
     "name": "stdout",
     "output_type": "stream",
     "text": [
      "['First', 'Second', 'Third', 'And']\n",
      "['First', 'Second', 'Third', 'And']\n",
      "['The', '', 'First', 'nonsense', '', 'Then']\n",
      "['The', '', 'First', 'nonsense', '', 'Then']\n"
     ]
    }
   ],
   "source": [
    "in_file1 = DATA_DIR / \"simple_file.txt\"\n",
    "in_file2 = DATA_DIR / \"simple_file_with_empty_lines.txt\"\n",
    "\n",
    "expected_file_1 = [\"First\", \"Second\", \"Third\", \"And\"]\n",
    "print(expected_file_1)\n",
    "print(find_first_words(in_file1))\n",
    "assert find_first_words(in_file1) == expected_file_1\n",
    "\n",
    "expected_file_2 = [\"The\", \"\", \"First\", \"nonsense\", \"\", \"Then\"]\n",
    "print(expected_file_2)\n",
    "print(find_first_words(in_file2))\n",
    "assert find_first_words(in_file2) == expected_file_2"
   ]
  },
  {
   "cell_type": "code",
   "metadata": {
    "collapsed": false
   },
   "outputs": [],
   "source": []
  }
 ],
 "metadata": {
  "celltoolbar": "Edit Metadata",
  "kernelspec": {
   "display_name": "Python 3 (ipykernel)",
   "language": "python",
   "name": "python3"
  },
  "language_info": {
   "codemirror_mode": {
    "name": "ipython",
    "version": 3
   },
   "file_extension": ".py",
   "mimetype": "text/x-python",
   "name": "python",
   "nbconvert_exporter": "python",
   "pygments_lexer": "ipython3",
   "version": "3.11.0"
  }
 },
 "nbformat": 4,
 "nbformat_minor": 2
}
