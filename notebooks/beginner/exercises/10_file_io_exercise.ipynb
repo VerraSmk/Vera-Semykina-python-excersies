{
 "cells": [
  {
   "cell_type": "code",
   "execution_count": 42,
   "metadata": {
    "ExecuteTime": {
     "end_time": "2024-04-02T00:17:31.917038Z",
     "start_time": "2024-04-02T00:17:31.910394Z"
    },
    "editable": false
   },
   "outputs": [],
   "source": [
    "# EXECUTE THIS ONE FIRST!\n",
    "\n",
    "from pathlib import Path\n",
    "\n",
    "# Constants for the exercises:\n",
    "WORKING_DIR = Path.cwd()\n",
    "DATA_DIR = WORKING_DIR.parent / \"data\""
   ]
  },
  {
   "cell_type": "markdown",
   "metadata": {},
   "source": [
    "# 1. Sum numbers listed in a file\n",
    "Fill ____ pieces of the code below. `sum_numbers_in_file` function takes a input file path as argument, reads the numbers listed in the input file and returns the sum of those numbers. You can assume that each line contains exactly one numeric value."
   ]
  },
  {
   "cell_type": "code",
   "execution_count": 43,
   "metadata": {
    "ExecuteTime": {
     "end_time": "2024-04-02T00:17:34.548680Z",
     "start_time": "2024-04-02T00:17:34.528552Z"
    }
   },
   "outputs": [],
   "source": [
    "def sum_numbers_in_file(input_file):\n",
    "    total = 0.0\n",
    "    with open(input_file) as simple_file:\n",
    "        for line in simple_file:\n",
    "            line = line.strip()  # Remove potential white space\n",
    "            total += float(line)\n",
    "    return total"
   ]
  },
  {
   "cell_type": "code",
   "execution_count": 44,
   "metadata": {
    "ExecuteTime": {
     "end_time": "2024-04-02T00:17:35.466154Z",
     "start_time": "2024-04-02T00:17:35.449395Z"
    },
    "editable": false
   },
   "outputs": [],
   "source": [
    "in_file = DATA_DIR / \"numbers.txt\"\n",
    "assert sum_numbers_in_file(in_file) == 189.5"
   ]
  },
  {
   "cell_type": "markdown",
   "metadata": {},
   "source": [
    "# 2. Reading first word from each line of a file\n",
    "Implement `find_first_words` function which takes an input file path as argument. The function should find the first word of each line in the file and return these words as a list. If a line is empty, the returned list should contain an empty string for that line."
   ]
  },
  {
   "cell_type": "code",
   "execution_count": 47,
   "metadata": {
    "ExecuteTime": {
     "end_time": "2024-04-02T00:18:13.925223Z",
     "start_time": "2024-04-02T00:18:13.903933Z"
    }
   },
   "outputs": [],
   "source": [
    "# Your implementation here\n",
    "def find_first_words(input_file):\n",
    "    list=[]\n",
    "    with open(input_file) as simple_file:\n",
    "        for line in simple_file:\n",
    "            list.append(line.split(None, 1)[0])\n",
    "    return list"
   ]
  },
  {
   "cell_type": "code",
   "execution_count": 48,
   "metadata": {
    "ExecuteTime": {
     "end_time": "2024-04-02T00:18:16.382112Z",
     "start_time": "2024-04-02T00:18:16.335468Z"
    },
    "editable": false
   },
   "outputs": [
    {
     "ename": "IndexError",
     "evalue": "list index out of range",
     "output_type": "error",
     "traceback": [
      "\u001b[1;31m---------------------------------------------------------------------------\u001b[0m",
      "\u001b[1;31mIndexError\u001b[0m                                Traceback (most recent call last)",
      "Cell \u001b[1;32mIn[48], line 8\u001b[0m\n\u001b[0;32m      5\u001b[0m \u001b[38;5;28;01massert\u001b[39;00m find_first_words(in_file1) \u001b[38;5;241m==\u001b[39m expected_file_1\n\u001b[0;32m      7\u001b[0m expected_file_2 \u001b[38;5;241m=\u001b[39m [\u001b[38;5;124m\"\u001b[39m\u001b[38;5;124mThe\u001b[39m\u001b[38;5;124m\"\u001b[39m, \u001b[38;5;124m\"\u001b[39m\u001b[38;5;124m\"\u001b[39m, \u001b[38;5;124m\"\u001b[39m\u001b[38;5;124mFirst\u001b[39m\u001b[38;5;124m\"\u001b[39m, \u001b[38;5;124m\"\u001b[39m\u001b[38;5;124mnonsense\u001b[39m\u001b[38;5;124m\"\u001b[39m, \u001b[38;5;124m\"\u001b[39m\u001b[38;5;124m\"\u001b[39m, \u001b[38;5;124m\"\u001b[39m\u001b[38;5;124mThen\u001b[39m\u001b[38;5;124m\"\u001b[39m]\n\u001b[1;32m----> 8\u001b[0m \u001b[38;5;28;01massert\u001b[39;00m \u001b[43mfind_first_words\u001b[49m\u001b[43m(\u001b[49m\u001b[43min_file2\u001b[49m\u001b[43m)\u001b[49m \u001b[38;5;241m==\u001b[39m expected_file_2\n",
      "Cell \u001b[1;32mIn[47], line 6\u001b[0m, in \u001b[0;36mfind_first_words\u001b[1;34m(input_file)\u001b[0m\n\u001b[0;32m      4\u001b[0m \u001b[38;5;28;01mwith\u001b[39;00m \u001b[38;5;28mopen\u001b[39m(input_file) \u001b[38;5;28;01mas\u001b[39;00m simple_file:\n\u001b[0;32m      5\u001b[0m     \u001b[38;5;28;01mfor\u001b[39;00m line \u001b[38;5;129;01min\u001b[39;00m simple_file:\n\u001b[1;32m----> 6\u001b[0m         \u001b[38;5;28mlist\u001b[39m\u001b[38;5;241m.\u001b[39mappend(\u001b[43mline\u001b[49m\u001b[38;5;241;43m.\u001b[39;49m\u001b[43msplit\u001b[49m\u001b[43m(\u001b[49m\u001b[38;5;28;43;01mNone\u001b[39;49;00m\u001b[43m,\u001b[49m\u001b[43m \u001b[49m\u001b[38;5;241;43m1\u001b[39;49m\u001b[43m)\u001b[49m\u001b[43m[\u001b[49m\u001b[38;5;241;43m0\u001b[39;49m\u001b[43m]\u001b[49m)\n\u001b[0;32m      7\u001b[0m \u001b[38;5;28;01mreturn\u001b[39;00m \u001b[38;5;28mlist\u001b[39m\n",
      "\u001b[1;31mIndexError\u001b[0m: list index out of range"
     ]
    }
   ],
   "source": [
    "in_file1 = DATA_DIR / \"simple_file.txt\"\n",
    "in_file2 = DATA_DIR / \"simple_file_with_empty_lines.txt\"\n",
    "\n",
    "expected_file_1 = [\"First\", \"Second\", \"Third\", \"And\"]\n",
    "assert find_first_words(in_file1) == expected_file_1\n",
    "\n",
    "expected_file_2 = [\"The\", \"\", \"First\", \"nonsense\", \"\", \"Then\"]\n",
    "assert find_first_words(in_file2) == expected_file_2"
   ]
  },
  {
   "cell_type": "code",
   "metadata": {
    "collapsed": false
   },
   "outputs": [],
   "source": []
  }
 ],
 "metadata": {
  "celltoolbar": "Edit Metadata",
  "kernelspec": {
   "display_name": "Python 3 (ipykernel)",
   "language": "python",
   "name": "python3"
  },
  "language_info": {
   "codemirror_mode": {
    "name": "ipython",
    "version": 3
   },
   "file_extension": ".py",
   "mimetype": "text/x-python",
   "name": "python",
   "nbconvert_exporter": "python",
   "pygments_lexer": "ipython3",
   "version": "3.11.0"
  }
 },
 "nbformat": 4,
 "nbformat_minor": 2
}
