{
 "cells": [
  {
   "cell_type": "markdown",
   "metadata": {},
   "source": [
    "# 1. Populating a dictionary\n",
    "Create a dictionary by using all the given variables."
   ]
  },
  {
   "cell_type": "code",
   "execution_count": 1,
   "metadata": {
    "ExecuteTime": {
     "end_time": "2024-04-01T18:16:43.207438Z",
     "start_time": "2024-04-01T18:16:43.186427Z"
    },
    "editable": false
   },
   "outputs": [],
   "source": [
    "first_name = \"John\"\n",
    "last_name = \"Doe\"\n",
    "favorite_hobby = \"Python\"\n",
    "sports_hobby = \"gym\"\n",
    "age = 82"
   ]
  },
  {
   "cell_type": "code",
   "execution_count": 5,
   "metadata": {
    "ExecuteTime": {
     "end_time": "2024-04-01T18:39:36.192223Z",
     "start_time": "2024-04-01T18:39:36.173251Z"
    }
   },
   "outputs": [
    {
     "name": "stdout",
     "output_type": "stream",
     "text": [
      "{'name': 'John Doe', 'age': 82, 'hobbies': ['Python', 'gym']}\n"
     ]
    }
   ],
   "source": [
    "# Your implementation\n",
    "my_dict = dict(name = first_name+' '+last_name ,age = 82, hobbies = [favorite_hobby, sports_hobby])\n",
    "print(my_dict)"
   ]
  },
  {
   "cell_type": "code",
   "execution_count": 6,
   "metadata": {
    "ExecuteTime": {
     "end_time": "2024-04-01T18:39:41.397896Z",
     "start_time": "2024-04-01T18:39:41.380407Z"
    },
    "editable": false
   },
   "outputs": [],
   "source": [
    "assert my_dict == {\"name\": \"John Doe\", \"age\": 82, \"hobbies\": [\"Python\", \"gym\"]}"
   ]
  },
  {
   "cell_type": "markdown",
   "metadata": {},
   "source": [
    "# 2. Accessing and merging dictionaries\n",
    "Combine `dict1`, `dict2`, and `dict3` into `my_dict`. In addition, get the value of `special_key` from `my_dict` into a `special_value` variable. Note that original dictionaries should stay untouched and `special_key` should be removed from `my_dict`."
   ]
  },
  {
   "cell_type": "code",
   "execution_count": 15,
   "metadata": {
    "ExecuteTime": {
     "end_time": "2024-04-01T18:46:23.566360Z",
     "start_time": "2024-04-01T18:46:23.548168Z"
    },
    "editable": false
   },
   "outputs": [],
   "source": [
    "dict1 = dict(key1=\"This is not that hard\", key2=\"Python is still cool\")\n",
    "dict2 = {\"key1\": 123, \"special_key\": \"secret\"}\n",
    "# This is also a away to initialize a dict (list of tuples)\n",
    "dict3 = dict([(\"key2\", 456), (\"keyX\", \"X\")])"
   ]
  },
  {
   "cell_type": "code",
   "execution_count": 27,
   "metadata": {
    "ExecuteTime": {
     "end_time": "2024-04-01T18:59:16.634742Z",
     "start_time": "2024-04-01T18:59:16.609694Z"
    }
   },
   "outputs": [
    {
     "name": "stdout",
     "output_type": "stream",
     "text": [
      "{'key1': 123, 'key2': 456, 'special_key': 'secret', 'keyX': 'X'}\n",
      "{'key1': 'This is not that hard', 'key2': 'Python is still cool'}\n",
      "{'key1': 123, 'special_key': 'secret'}\n",
      "{'key2': 456, 'keyX': 'X'}\n",
      "secret\n",
      "{'key1': 123, 'key2': 456, 'keyX': 'X'}\n"
     ]
    }
   ],
   "source": [
    "# 'Your impelementation'\n",
    "my_dict = dict1.copy()\n",
    "my_dict.update(dict2.copy())\n",
    "my_dict.update(dict3.copy())\n",
    "print(my_dict)\n",
    "print(dict1)\n",
    "print(dict2)\n",
    "print(dict3)\n",
    "special_value= my_dict.pop(\"special_key\")\n",
    "print(special_value)\n",
    "print(my_dict)\n",
    "#special_value = "
   ]
  },
  {
   "cell_type": "code",
   "execution_count": 28,
   "metadata": {
    "ExecuteTime": {
     "end_time": "2024-04-01T18:59:19.702317Z",
     "start_time": "2024-04-01T18:59:19.691819Z"
    },
    "editable": false
   },
   "outputs": [],
   "source": [
    "assert my_dict == {\"key1\": 123, \"key2\": 456, \"keyX\": \"X\"}\n",
    "assert special_value == \"secret\"\n",
    "\n",
    "# Let's check that the originals are untouched\n",
    "assert dict1 == {\"key1\": \"This is not that hard\", \"key2\": \"Python is still cool\"}\n",
    "assert dict2 == {\"key1\": 123, \"special_key\": \"secret\"}\n",
    "assert dict3 == {\"key2\": 456, \"keyX\": \"X\"}"
   ]
  },
  {
   "cell_type": "code",
   "metadata": {
    "collapsed": false
   },
   "outputs": [],
   "source": []
  }
 ],
 "metadata": {
  "celltoolbar": "Edit Metadata",
  "kernelspec": {
   "display_name": "Python 3",
   "language": "python",
   "name": "python3"
  },
  "language_info": {
   "codemirror_mode": {
    "name": "ipython",
    "version": 3
   },
   "file_extension": ".py",
   "mimetype": "text/x-python",
   "name": "python",
   "nbconvert_exporter": "python",
   "pygments_lexer": "ipython3",
   "version": "3.5.4"
  }
 },
 "nbformat": 4,
 "nbformat_minor": 1
}
